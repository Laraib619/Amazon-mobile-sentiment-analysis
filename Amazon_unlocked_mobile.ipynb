{
 "cells": [
  {
   "cell_type": "code",
   "execution_count": 21,
   "id": "f7cef7d3",
   "metadata": {},
   "outputs": [],
   "source": [
    "import numpy as np \n",
    "import pandas as pd \n",
    "\n",
    "import matplotlib.pyplot as plt\n",
    "import seaborn as sns\n",
    "%matplotlib inline\n",
    "\n",
    "from bs4 import BeautifulSoup  \n",
    "import re\n",
    "import nltk\n",
    "from nltk.corpus import stopwords \n",
    "from nltk.stem import SnowballStemmer\n",
    "from nltk import sent_tokenize, word_tokenize, pos_tag\n",
    "\n",
    "from sklearn.feature_extraction.text import CountVectorizer, TfidfVectorizer\n",
    "from sklearn.naive_bayes import MultinomialNB\n",
    "from sklearn.linear_model import LogisticRegression\n",
    "from sklearn.ensemble import RandomForestClassifier\n",
    "from sklearn import metrics\n",
    "from sklearn.metrics import roc_auc_score, accuracy_score\n",
    "\n",
    "from sklearn.model_selection import train_test_split, GridSearchCV\n",
    "import logging\n",
    " \n"
   ]
  },
  {
   "cell_type": "code",
   "execution_count": 22,
   "id": "c79ea0d1",
   "metadata": {},
   "outputs": [
    {
     "data": {
      "text/html": [
       "<div>\n",
       "<style scoped>\n",
       "    .dataframe tbody tr th:only-of-type {\n",
       "        vertical-align: middle;\n",
       "    }\n",
       "\n",
       "    .dataframe tbody tr th {\n",
       "        vertical-align: top;\n",
       "    }\n",
       "\n",
       "    .dataframe thead th {\n",
       "        text-align: right;\n",
       "    }\n",
       "</style>\n",
       "<table border=\"1\" class=\"dataframe\">\n",
       "  <thead>\n",
       "    <tr style=\"text-align: right;\">\n",
       "      <th></th>\n",
       "      <th>Product Name</th>\n",
       "      <th>Brand Name</th>\n",
       "      <th>Price</th>\n",
       "      <th>Rating</th>\n",
       "      <th>Reviews</th>\n",
       "      <th>Review Votes</th>\n",
       "    </tr>\n",
       "  </thead>\n",
       "  <tbody>\n",
       "    <tr>\n",
       "      <th>0</th>\n",
       "      <td>\"CLEAR CLEAN ESN\" Sprint EPIC 4G Galaxy SPH-D7...</td>\n",
       "      <td>Samsung</td>\n",
       "      <td>199.99</td>\n",
       "      <td>5</td>\n",
       "      <td>I feel so LUCKY to have found this used (phone...</td>\n",
       "      <td>1.0</td>\n",
       "    </tr>\n",
       "    <tr>\n",
       "      <th>1</th>\n",
       "      <td>\"CLEAR CLEAN ESN\" Sprint EPIC 4G Galaxy SPH-D7...</td>\n",
       "      <td>Samsung</td>\n",
       "      <td>199.99</td>\n",
       "      <td>4</td>\n",
       "      <td>nice phone, nice up grade from my pantach revu...</td>\n",
       "      <td>0.0</td>\n",
       "    </tr>\n",
       "    <tr>\n",
       "      <th>2</th>\n",
       "      <td>\"CLEAR CLEAN ESN\" Sprint EPIC 4G Galaxy SPH-D7...</td>\n",
       "      <td>Samsung</td>\n",
       "      <td>199.99</td>\n",
       "      <td>5</td>\n",
       "      <td>Very pleased</td>\n",
       "      <td>0.0</td>\n",
       "    </tr>\n",
       "    <tr>\n",
       "      <th>3</th>\n",
       "      <td>\"CLEAR CLEAN ESN\" Sprint EPIC 4G Galaxy SPH-D7...</td>\n",
       "      <td>Samsung</td>\n",
       "      <td>199.99</td>\n",
       "      <td>4</td>\n",
       "      <td>It works good but it goes slow sometimes but i...</td>\n",
       "      <td>0.0</td>\n",
       "    </tr>\n",
       "    <tr>\n",
       "      <th>4</th>\n",
       "      <td>\"CLEAR CLEAN ESN\" Sprint EPIC 4G Galaxy SPH-D7...</td>\n",
       "      <td>Samsung</td>\n",
       "      <td>199.99</td>\n",
       "      <td>4</td>\n",
       "      <td>Great phone to replace my lost phone. The only...</td>\n",
       "      <td>0.0</td>\n",
       "    </tr>\n",
       "  </tbody>\n",
       "</table>\n",
       "</div>"
      ],
      "text/plain": [
       "                                        Product Name Brand Name   Price  \\\n",
       "0  \"CLEAR CLEAN ESN\" Sprint EPIC 4G Galaxy SPH-D7...    Samsung  199.99   \n",
       "1  \"CLEAR CLEAN ESN\" Sprint EPIC 4G Galaxy SPH-D7...    Samsung  199.99   \n",
       "2  \"CLEAR CLEAN ESN\" Sprint EPIC 4G Galaxy SPH-D7...    Samsung  199.99   \n",
       "3  \"CLEAR CLEAN ESN\" Sprint EPIC 4G Galaxy SPH-D7...    Samsung  199.99   \n",
       "4  \"CLEAR CLEAN ESN\" Sprint EPIC 4G Galaxy SPH-D7...    Samsung  199.99   \n",
       "\n",
       "   Rating                                            Reviews  Review Votes  \n",
       "0       5  I feel so LUCKY to have found this used (phone...           1.0  \n",
       "1       4  nice phone, nice up grade from my pantach revu...           0.0  \n",
       "2       5                                       Very pleased           0.0  \n",
       "3       4  It works good but it goes slow sometimes but i...           0.0  \n",
       "4       4  Great phone to replace my lost phone. The only...           0.0  "
      ]
     },
     "execution_count": 22,
     "metadata": {},
     "output_type": "execute_result"
    }
   ],
   "source": [
    "df = pd.read_csv(\"Amazon_Unlocked_Mobile.csv\")\n",
    "df.head()"
   ]
  },
  {
   "cell_type": "code",
   "execution_count": 23,
   "id": "ca1afe42",
   "metadata": {},
   "outputs": [
    {
     "name": "stdout",
     "output_type": "stream",
     "text": [
      "<class 'pandas.core.frame.DataFrame'>\n",
      "RangeIndex: 413840 entries, 0 to 413839\n",
      "Data columns (total 6 columns):\n",
      " #   Column        Non-Null Count   Dtype  \n",
      "---  ------        --------------   -----  \n",
      " 0   Product Name  413840 non-null  object \n",
      " 1   Brand Name    348669 non-null  object \n",
      " 2   Price         407907 non-null  float64\n",
      " 3   Rating        413840 non-null  int64  \n",
      " 4   Reviews       413778 non-null  object \n",
      " 5   Review Votes  401544 non-null  float64\n",
      "dtypes: float64(2), int64(1), object(3)\n",
      "memory usage: 18.9+ MB\n"
     ]
    }
   ],
   "source": [
    "df.info(verbose = True)"
   ]
  },
  {
   "cell_type": "code",
   "execution_count": 12,
   "id": "ff74bf23",
   "metadata": {},
   "outputs": [
    {
     "name": "stdout",
     "output_type": "stream",
     "text": [
      "Summary static of numerical feture :\n",
      "                Price         Rating   Review Votes\n",
      "count  407907.000000  413840.000000  401544.000000\n",
      "mean      226.867155       3.819578       1.507237\n",
      "std       273.006259       1.548216       9.163853\n",
      "min         1.730000       1.000000       0.000000\n",
      "25%        79.990000       3.000000       0.000000\n",
      "50%       144.710000       5.000000       0.000000\n",
      "75%       269.990000       5.000000       1.000000\n",
      "max      2598.000000       5.000000     645.000000\n",
      "\n",
      " Total number of review 413840\n",
      "\n",
      "Total number of brands: 384\n",
      "\n",
      "Total number of unique products: 4410\n",
      "\n",
      "Percentage of reviews with neutral sentiment : 7.68%\n",
      "\n",
      "Percentage of reviews with positive sentiment : 68.86%\n",
      "\n",
      "Percentage of reviews with negative sentiment : 23.45%\n"
     ]
    }
   ],
   "source": [
    "print(\"Summary static of numerical feture :\\n\" , df.describe())\n",
    "print(\"\\n Total number of review\" , len(df[\"Reviews\"]))\n",
    "print(\"\\nTotal number of brands:\", df[\"Brand Name\"].nunique())\n",
    "print(\"\\nTotal number of unique products:\",df[\"Product Name\"].nunique())\n",
    "print(\"\\nPercentage of reviews with neutral sentiment : {:.2f}%\".format(df[df.Rating == 3].Reviews.count()/len(df['Rating'])*100))\n",
    "print(\"\\nPercentage of reviews with positive sentiment : {:.2f}%\".format(df[df.Rating >3].Reviews.count()/len(df['Rating'])*100) )\n",
    "print(\"\\nPercentage of reviews with negative sentiment : {:.2f}%\".format(df[df.Rating < 3].Reviews.count()/len(df['Rating'])*100))"
   ]
  },
  {
   "cell_type": "code",
   "execution_count": 15,
   "id": "fd2b6488",
   "metadata": {},
   "outputs": [
    {
     "data": {
      "text/plain": [
       "Text(0, 0.5, 'Count')"
      ]
     },
     "execution_count": 15,
     "metadata": {},
     "output_type": "execute_result"
    },
    {
     "data": {
      "image/png": "[encoded data removed]",
      "text/plain": [
       "<Figure size 864x576 with 1 Axes>"
      ]
     },
     "metadata": {
      "needs_background": "light"
     },
     "output_type": "display_data"
    }
   ],
   "source": [
    "plt.figure(figsize=(12,8))\n",
    "df['Rating'].value_counts().sort_index().plot(kind = 'bar')\n",
    "plt.title('Distribution of Rating')\n",
    "plt.xlabel('Rating')\n",
    "plt.ylabel('Count')"
   ]
  },
  {
   "cell_type": "code",
   "execution_count": 18,
   "id": "bf2db842",
   "metadata": {},
   "outputs": [
    {
     "data": {
      "text/plain": [
       "Text(0.5, 1.0, 'Number of Reviews for Top 20 Brands')"
      ]
     },
     "execution_count": 18,
     "metadata": {},
     "output_type": "execute_result"
    },
    {
     "data": {
      "image/png": "[encoded data removed]",
      "text/plain": [
       "<Figure size 864x576 with 1 Axes>"
      ]
     },
     "metadata": {
      "needs_background": "light"
     },
     "output_type": "display_data"
    }
   ],
   "source": [
    "\n",
    "plt.figure(figsize=(12,8))\n",
    "brands = df[\"Brand Name\"].value_counts()\n",
    "brands[:20].plot(kind='bar')\n",
    "\n",
    "plt.title(\"Number of Reviews for Top 20 Brands\")"
   ]
  },
  {
   "cell_type": "code",
   "execution_count": 25,
   "id": "7b523778",
   "metadata": {},
   "outputs": [
    {
     "name": "stdout",
     "output_type": "stream",
     "text": [
      "<class 'pandas.core.frame.DataFrame'>\n",
      "Int64Index: 334335 entries, 0 to 413839\n",
      "Data columns (total 6 columns):\n",
      " #   Column        Non-Null Count   Dtype  \n",
      "---  ------        --------------   -----  \n",
      " 0   Product Name  334335 non-null  object \n",
      " 1   Brand Name    334335 non-null  object \n",
      " 2   Price         334335 non-null  float64\n",
      " 3   Rating        334335 non-null  int64  \n",
      " 4   Reviews       334335 non-null  object \n",
      " 5   Review Votes  334335 non-null  float64\n",
      "dtypes: float64(2), int64(1), object(3)\n",
      "memory usage: 17.9+ MB\n"
     ]
    }
   ],
   "source": [
    "df.dropna(inplace = True)\n",
    "df.info(verbose = True)"
   ]
  },
  {
   "cell_type": "code",
   "execution_count": 26,
   "id": "78d851a5",
   "metadata": {},
   "outputs": [
    {
     "name": "stdout",
     "output_type": "stream",
     "text": [
      "<class 'pandas.core.frame.DataFrame'>\n",
      "Int64Index: 308277 entries, 0 to 413839\n",
      "Data columns (total 6 columns):\n",
      " #   Column        Non-Null Count   Dtype  \n",
      "---  ------        --------------   -----  \n",
      " 0   Product Name  308277 non-null  object \n",
      " 1   Brand Name    308277 non-null  object \n",
      " 2   Price         308277 non-null  float64\n",
      " 3   Rating        308277 non-null  int64  \n",
      " 4   Reviews       308277 non-null  object \n",
      " 5   Review Votes  308277 non-null  float64\n",
      "dtypes: float64(2), int64(1), object(3)\n",
      "memory usage: 16.5+ MB\n"
     ]
    }
   ],
   "source": [
    "df_final = df[df['Rating'] != 3]\n",
    "df_final.info()"
   ]
  },
  {
   "cell_type": "code",
   "execution_count": 28,
   "id": "3d76473c",
   "metadata": {},
   "outputs": [
    {
     "name": "stderr",
     "output_type": "stream",
     "text": [
      "C:\\Users\\Lenovo\\AppData\\Local\\Temp/ipykernel_12336/3038966242.py:1: SettingWithCopyWarning: \n",
      "A value is trying to be set on a copy of a slice from a DataFrame.\n",
      "Try using .loc[row_indexer,col_indexer] = value instead\n",
      "\n",
      "See the caveats in the documentation: https://pandas.pydata.org/pandas-docs/stable/user_guide/indexing.html#returning-a-view-versus-a-copy\n",
      "  df_final['sentiment'] = np.where(df_final['Rating'] >3 , 1, 0)\n"
     ]
    },
    {
     "data": {
      "text/html": [
       "<div>\n",
       "<style scoped>\n",
       "    .dataframe tbody tr th:only-of-type {\n",
       "        vertical-align: middle;\n",
       "    }\n",
       "\n",
       "    .dataframe tbody tr th {\n",
       "        vertical-align: top;\n",
       "    }\n",
       "\n",
       "    .dataframe thead th {\n",
       "        text-align: right;\n",
       "    }\n",
       "</style>\n",
       "<table border=\"1\" class=\"dataframe\">\n",
       "  <thead>\n",
       "    <tr style=\"text-align: right;\">\n",
       "      <th></th>\n",
       "      <th>Product Name</th>\n",
       "      <th>Brand Name</th>\n",
       "      <th>Price</th>\n",
       "      <th>Rating</th>\n",
       "      <th>Reviews</th>\n",
       "      <th>Review Votes</th>\n",
       "      <th>sentiment</th>\n",
       "    </tr>\n",
       "  </thead>\n",
       "  <tbody>\n",
       "    <tr>\n",
       "      <th>0</th>\n",
       "      <td>\"CLEAR CLEAN ESN\" Sprint EPIC 4G Galaxy SPH-D7...</td>\n",
       "      <td>Samsung</td>\n",
       "      <td>199.99</td>\n",
       "      <td>5</td>\n",
       "      <td>I feel so LUCKY to have found this used (phone...</td>\n",
       "      <td>1.0</td>\n",
       "      <td>1</td>\n",
       "    </tr>\n",
       "    <tr>\n",
       "      <th>1</th>\n",
       "      <td>\"CLEAR CLEAN ESN\" Sprint EPIC 4G Galaxy SPH-D7...</td>\n",
       "      <td>Samsung</td>\n",
       "      <td>199.99</td>\n",
       "      <td>4</td>\n",
       "      <td>nice phone, nice up grade from my pantach revu...</td>\n",
       "      <td>0.0</td>\n",
       "      <td>1</td>\n",
       "    </tr>\n",
       "    <tr>\n",
       "      <th>2</th>\n",
       "      <td>\"CLEAR CLEAN ESN\" Sprint EPIC 4G Galaxy SPH-D7...</td>\n",
       "      <td>Samsung</td>\n",
       "      <td>199.99</td>\n",
       "      <td>5</td>\n",
       "      <td>Very pleased</td>\n",
       "      <td>0.0</td>\n",
       "      <td>1</td>\n",
       "    </tr>\n",
       "    <tr>\n",
       "      <th>3</th>\n",
       "      <td>\"CLEAR CLEAN ESN\" Sprint EPIC 4G Galaxy SPH-D7...</td>\n",
       "      <td>Samsung</td>\n",
       "      <td>199.99</td>\n",
       "      <td>4</td>\n",
       "      <td>It works good but it goes slow sometimes but i...</td>\n",
       "      <td>0.0</td>\n",
       "      <td>1</td>\n",
       "    </tr>\n",
       "    <tr>\n",
       "      <th>4</th>\n",
       "      <td>\"CLEAR CLEAN ESN\" Sprint EPIC 4G Galaxy SPH-D7...</td>\n",
       "      <td>Samsung</td>\n",
       "      <td>199.99</td>\n",
       "      <td>4</td>\n",
       "      <td>Great phone to replace my lost phone. The only...</td>\n",
       "      <td>0.0</td>\n",
       "      <td>1</td>\n",
       "    </tr>\n",
       "  </tbody>\n",
       "</table>\n",
       "</div>"
      ],
      "text/plain": [
       "                                        Product Name Brand Name   Price  \\\n",
       "0  \"CLEAR CLEAN ESN\" Sprint EPIC 4G Galaxy SPH-D7...    Samsung  199.99   \n",
       "1  \"CLEAR CLEAN ESN\" Sprint EPIC 4G Galaxy SPH-D7...    Samsung  199.99   \n",
       "2  \"CLEAR CLEAN ESN\" Sprint EPIC 4G Galaxy SPH-D7...    Samsung  199.99   \n",
       "3  \"CLEAR CLEAN ESN\" Sprint EPIC 4G Galaxy SPH-D7...    Samsung  199.99   \n",
       "4  \"CLEAR CLEAN ESN\" Sprint EPIC 4G Galaxy SPH-D7...    Samsung  199.99   \n",
       "\n",
       "   Rating                                            Reviews  Review Votes  \\\n",
       "0       5  I feel so LUCKY to have found this used (phone...           1.0   \n",
       "1       4  nice phone, nice up grade from my pantach revu...           0.0   \n",
       "2       5                                       Very pleased           0.0   \n",
       "3       4  It works good but it goes slow sometimes but i...           0.0   \n",
       "4       4  Great phone to replace my lost phone. The only...           0.0   \n",
       "\n",
       "   sentiment  \n",
       "0          1  \n",
       "1          1  \n",
       "2          1  \n",
       "3          1  \n",
       "4          1  "
      ]
     },
     "execution_count": 28,
     "metadata": {},
     "output_type": "execute_result"
    }
   ],
   "source": [
    "df_final['sentiment'] = np.where(df_final['Rating'] >3 , 1, 0)\n",
    "df_final.head()"
   ]
  },
  {
   "cell_type": "code",
   "execution_count": 34,
   "id": "fc19be32",
   "metadata": {},
   "outputs": [
    {
     "data": {
      "text/plain": [
       "<AxesSubplot:>"
      ]
     },
     "execution_count": 34,
     "metadata": {},
     "output_type": "execute_result"
    },
    {
     "data": {
      "image/png": "[encoded data removed]",
      "text/plain": [
       "<Figure size 936x576 with 1 Axes>"
      ]
     },
     "metadata": {
      "needs_background": "light"
     },
     "output_type": "display_data"
    }
   ],
   "source": [
    "plt.figure(figsize  = (13,8))\n",
    "df_final['sentiment'].value_counts().plot(kind= \"bar\")"
   ]
  },
  {
   "cell_type": "code",
   "execution_count": 35,
   "id": "da495cea",
   "metadata": {},
   "outputs": [],
   "source": [
    "X_train, X_test, y_train, y_test = train_test_split(df_final['Reviews'], df_final['sentiment'], \n",
    "                                                    test_size=0.1, random_state=0)\n"
   ]
  },
  {
   "cell_type": "code",
   "execution_count": 39,
   "id": "a000528f",
   "metadata": {},
   "outputs": [
    {
     "name": "stdout",
     "output_type": "stream",
     "text": [
      "Load traing examples are 277449 and test examples are 30828\n"
     ]
    }
   ],
   "source": [
    "print(\"Load traing examples are {0} and test examples are {1}\".format(X_train.shape[0] , X_test.shape[0]))"
   ]
  },
  {
   "cell_type": "code",
   "execution_count": 41,
   "id": "28301264",
   "metadata": {},
   "outputs": [],
   "source": [
    "def clean_text(raw_text , remove_stopwords= False , stemming = False , split_text = False):\n",
    "    text = BeautifulSoup(raw_text , 'lxml').get_text()\n",
    "    letter = re.sub(\"[^a-zA-Z]\" , \" \" , text)\n",
    "    words = letter.lower().split\n",
    "    if remove_stopwords :\n",
    "        stops = set(stopwords.words('english'))\n",
    "        word = [ w for w in words if not w in stops]\n",
    "    if stemming == True :\n",
    "        stemmer = SnowballStemmer('english')\n",
    "        words = [stemmer.stem(w) for w in word]\n",
    "    if split_text == True :\n",
    "        return (words)\n",
    "    return (\"  \".join(words))\n"
   ]
  },
  {
   "cell_type": "code",
   "execution_count": 45,
   "id": "7010e747",
   "metadata": {},
   "outputs": [
    {
     "name": "stderr",
     "output_type": "stream",
     "text": [
      "C:\\Users\\Lenovo\\.conda\\envs\\laraib\\lib\\site-packages\\bs4\\__init__.py:431: MarkupResemblesLocatorWarning: \"https://www.amazon.com/dp/B00K15KRV6/ref=cm_cr_ryp_prd_ttl_sol_22\" looks like a URL. Beautiful Soup is not an HTTP client. You should probably use an HTTP client like requests to get the document behind the URL, and feed that document to Beautiful Soup.\n",
      "  warnings.warn(\n",
      "C:\\Users\\Lenovo\\.conda\\envs\\laraib\\lib\\site-packages\\bs4\\__init__.py:431: MarkupResemblesLocatorWarning: \"https://www.amazon.com/gp/product/B00U8KSNB0/ref=cm_cr_ryp_prd_ttl_sol_22\" looks like a URL. Beautiful Soup is not an HTTP client. You should probably use an HTTP client like requests to get the document behind the URL, and feed that document to Beautiful Soup.\n",
      "  warnings.warn(\n",
      "C:\\Users\\Lenovo\\.conda\\envs\\laraib\\lib\\site-packages\\bs4\\__init__.py:431: MarkupResemblesLocatorWarning: \"http://www.amazon.com/gp/product/B0193D539M?redirect=true&ref_=cm_cr_ryp_prd_ttl_sol_0\" looks like a URL. Beautiful Soup is not an HTTP client. You should probably use an HTTP client like requests to get the document behind the URL, and feed that document to Beautiful Soup.\n",
      "  warnings.warn(\n",
      "C:\\Users\\Lenovo\\.conda\\envs\\laraib\\lib\\site-packages\\bs4\\__init__.py:431: MarkupResemblesLocatorWarning: \"http://www.amazon.com/gp/product/B013YDFH3Y?redirect=true&ref_=cm_cr_ryp_prd_ttl_sol_0\" looks like a URL. Beautiful Soup is not an HTTP client. You should probably use an HTTP client like requests to get the document behind the URL, and feed that document to Beautiful Soup.\n",
      "  warnings.warn(\n",
      "C:\\Users\\Lenovo\\.conda\\envs\\laraib\\lib\\site-packages\\bs4\\__init__.py:431: MarkupResemblesLocatorWarning: \"https://www.amazon.com/dp/B01BO6BYMQ/ref=cm_cr_ryp_prd_ttl_sol_1\" looks like a URL. Beautiful Soup is not an HTTP client. You should probably use an HTTP client like requests to get the document behind the URL, and feed that document to Beautiful Soup.\n",
      "  warnings.warn(\n",
      "C:\\Users\\Lenovo\\.conda\\envs\\laraib\\lib\\site-packages\\bs4\\__init__.py:431: MarkupResemblesLocatorWarning: \"https://www.amazon.com/gp/product/B00G197Q4M/ref=cm_cr_ryp_prd_ttl_sol_26\" looks like a URL. Beautiful Soup is not an HTTP client. You should probably use an HTTP client like requests to get the document behind the URL, and feed that document to Beautiful Soup.\n",
      "  warnings.warn(\n",
      "C:\\Users\\Lenovo\\.conda\\envs\\laraib\\lib\\site-packages\\bs4\\__init__.py:431: MarkupResemblesLocatorWarning: \"http://www.amazon.com/gp/product/B00PEJQU9M?redirect=true&ref_=cm_cr_ryp_prd_ttl_sol_0\" looks like a URL. Beautiful Soup is not an HTTP client. You should probably use an HTTP client like requests to get the document behind the URL, and feed that document to Beautiful Soup.\n",
      "  warnings.warn(\n",
      "C:\\Users\\Lenovo\\.conda\\envs\\laraib\\lib\\site-packages\\bs4\\__init__.py:431: MarkupResemblesLocatorWarning: \"http://www.amazon.com/gp/product/B00EZHM9JE?redirect=true&ref_=cm_cr_ryp_prd_ttl_sol_0\" looks like a URL. Beautiful Soup is not an HTTP client. You should probably use an HTTP client like requests to get the document behind the URL, and feed that document to Beautiful Soup.\n",
      "  warnings.warn(\n",
      "C:\\Users\\Lenovo\\.conda\\envs\\laraib\\lib\\site-packages\\bs4\\__init__.py:431: MarkupResemblesLocatorWarning: \"https://www.amazon.com/dp/B01CJU9BBM/ref=cm_cr_ryp_prd_ttl_sol_0\" looks like a URL. Beautiful Soup is not an HTTP client. You should probably use an HTTP client like requests to get the document behind the URL, and feed that document to Beautiful Soup.\n",
      "  warnings.warn(\n",
      "C:\\Users\\Lenovo\\.conda\\envs\\laraib\\lib\\site-packages\\bs4\\__init__.py:431: MarkupResemblesLocatorWarning: \"https://www.amazon.com/gp/product/B00JFNDLRC/ref=cm_cr_ryp_prd_ttl_sol_0\" looks like a URL. Beautiful Soup is not an HTTP client. You should probably use an HTTP client like requests to get the document behind the URL, and feed that document to Beautiful Soup.\n",
      "  warnings.warn(\n",
      "C:\\Users\\Lenovo\\.conda\\envs\\laraib\\lib\\site-packages\\bs4\\__init__.py:431: MarkupResemblesLocatorWarning: \"https://www.amazon.com/gp/product/B00JEMZYM4/ref=cm_cr_ryp_prd_ttl_sol_0\" looks like a URL. Beautiful Soup is not an HTTP client. You should probably use an HTTP client like requests to get the document behind the URL, and feed that document to Beautiful Soup.\n",
      "  warnings.warn(\n",
      "C:\\Users\\Lenovo\\.conda\\envs\\laraib\\lib\\site-packages\\bs4\\__init__.py:431: MarkupResemblesLocatorWarning: \"http://www.amazon.com/gp/product/B00OSTKZWM?redirect=true&ref_=cm_cr_ryp_prd_ttl_sol_1\" looks like a URL. Beautiful Soup is not an HTTP client. You should probably use an HTTP client like requests to get the document behind the URL, and feed that document to Beautiful Soup.\n",
      "  warnings.warn(\n"
     ]
    },
    {
     "name": "stdout",
     "output_type": "stream",
     "text": [
      "Show a cleaned review in the training set : \n",
      " it is very good responsible seller\n"
     ]
    },
    {
     "name": "stderr",
     "output_type": "stream",
     "text": [
      "C:\\Users\\Lenovo\\.conda\\envs\\laraib\\lib\\site-packages\\bs4\\__init__.py:431: MarkupResemblesLocatorWarning: \"https://www.amazon.com/dp/B00QF5QJR2/ref=cm_cr_ryp_prd_ttl_sol_0\" looks like a URL. Beautiful Soup is not an HTTP client. You should probably use an HTTP client like requests to get the document behind the URL, and feed that document to Beautiful Soup.\n",
      "  warnings.warn(\n"
     ]
    }
   ],
   "source": [
    "def cleanText(raw_text, remove_stopwords=False, stemming=False, split_text=False, \\\n",
    "             ):\n",
    "    '''\n",
    "    Convert a raw review to a cleaned review\n",
    "    '''\n",
    "    text = BeautifulSoup(raw_text, 'lxml').get_text()  #remove html\n",
    "    letters_only = re.sub(\"[^a-zA-Z]\", \" \", text)  # remove non-character\n",
    "    words = letters_only.lower().split() # convert to lower case \n",
    "    \n",
    "    if remove_stopwords: # remove stopword\n",
    "        stops = set(stopwords.words(\"english\"))\n",
    "        words = [w for w in words if not w in stops]\n",
    "        \n",
    "    if stemming==True:\n",
    "        stemmer = SnowballStemmer('english') \n",
    "        words = [stemmer.stem(w) for w in words]\n",
    "        \n",
    "    if split_text==True: \n",
    "        return (words)\n",
    "    \n",
    "    return( \" \".join(words))\n",
    "X_train_cleaned = []\n",
    "X_test_cleaned = []\n",
    "\n",
    "for d in X_train:\n",
    "    X_train_cleaned.append(cleanText(d))\n",
    "print('Show a cleaned review in the training set : \\n',  X_train_cleaned[10])\n",
    "    \n",
    "for d in X_test:\n",
    "    X_test_cleaned.append(cleanText(d))"
   ]
  },
  {
   "cell_type": "code",
   "execution_count": 49,
   "id": "444c3535",
   "metadata": {},
   "outputs": [
    {
     "name": "stdout",
     "output_type": "stream",
     "text": [
      "The number of features :  50646\n",
      "The feature name :  ['aa', 'abort', 'acaba', 'accidentally', 'acepar', 'acsd', 'actuator', 'addon', 'adn', 'advertiesd', 'afganistan', 'ages', 'ahrd', 'al', 'alla', 'alongside', 'alvjd', 'amazonused', 'amper', 'andgetting', 'angf', 'anoused', 'anymorepros', 'aperson', 'appereance', 'appscon', 'arch', 'arraive', 'asasas', 'asphalt', 'astute', 'attaches', 'audios', 'automate', 'avgthreatlabs', 'awful', 'baby', 'badcustomerexperience', 'ballsy', 'barquisimeto', 'bathrooms', 'bazels', 'beautifulit', 'beforehand', 'belongs', 'bestthank', 'bibbyelectronics', 'biscayne', 'blackplease', 'blesses', 'blotted', 'bmi', 'bone', 'borrar', 'boxes', 'breakfast', 'briskly', 'bsod', 'bugger', 'bumpers', 'buteven', 'buywell', 'caidas', 'calles', 'camerai', 'cancell', 'capacitythe', 'care', 'carrying', 'categor', 'cellar', 'centimeters', 'challenges', 'charging', 'cheating', 'childhood', 'choosed', 'churning', 'civilization', 'clearfast', 'closeout', 'cobalt', 'colleagues', 'combate', 'commando', 'compadible', 'competence', 'complied', 'compute', 'conclution', 'conexion', 'congestion', 'consbutton', 'constantlycamera', 'contidion', 'conveniant', 'coolreal', 'corporate', 'costasol', 'coupon', 'craddle', 'creaky', 'criticized', 'cscreen', 'culprit', 'cusstomized', 'cyprus', 'dances', 'dawning', 'deadsky', 'deceitful', 'decribes', 'deference', 'degrade', 'delivrered', 'departs', 'descbribed', 'desgastada', 'desprendida', 'detraction', 'deyyd', 'dicstorted', 'differs', 'dimenciones', 'dirrecion', 'discharged', 'discusted', 'dispersion', 'dissappointment', 'dive', 'dod', 'donf', 'doused', 'dramatic', 'dropouts', 'dugout', 'dustproof', 'earpodsbootup', 'echoing', 'eecreen', 'ejemplo', 'elimate', 'embellish', 'emporium', 'encourage', 'enjoycons', 'entitlement', 'eom', 'ergonomicsrecommended', 'esle', 'essay', 'estuche', 'evaluates', 'everyrhing', 'exampl', 'excelling', 'exectly', 'exito', 'expedia', 'expires', 'extendible', 'eyethe', 'fahrenheit', 'familymoblie', 'fascination', 'favorite', 'federal', 'ff', 'filmmaker', 'finley', 'fixe', 'flaut', 'floatable', 'foem', 'forbidden', 'formula', 'fphones', 'freeintegrated', 'friendlycons', 'fruitless', 'fullfill', 'fundo', 'gaggle', 'ganuant', 'gbalso', 'generates', 'gettig', 'gingerly', 'glicky', 'godbless', 'goodgreat', 'goot', 'graceful', 'granite', 'greatful', 'gringos', 'gstandard', 'gung', 'habria', 'ham', 'hangounts', 'hardwares', 'havasu', 'headfone', 'heaviness', 'hemy', 'hibernation', 'hindrance', 'hoje', 'hook', 'hotly', 'htcwell', 'hundreds', 'iblason', 'idicator', 'iii', 'imagio', 'imperdonable', 'imprressed', 'include', 'incounters', 'indigie', 'infinity', 'initializing', 'ins', 'installcons', 'intead', 'interface', 'intertained', 'invading', 'iphobe', 'irreparable', 'issueas', 'ither', 'iusses', 'jango', 'jetk', 'jolla', 'juicedefender', 'jzkcfor', 'kewl', 'kilocalories', 'knife', 'ksl', 'lagg', 'lapse', 'lauded', 'leaping', 'lemons', 'leveling', 'lifebrands', 'lightvoice', 'lineif', 'litterally', 'lllllllllllllllllllllllllllllllllllllllllllllllll', 'logically', 'looking', 'lotit', 'lozenge', 'lung', 'madly', 'makein', 'mancha', 'manto', 'marker', 'masters', 'mbhigh', 'mediocrecamera', 'membrane', 'menusi', 'messeges', 'miam', 'mig', 'miniature', 'mirrorless', 'misssed', 'mnck', 'model', 'momanyway', 'monthsunlocked', 'mostrado', 'moves', 'mths', 'multiselect', 'mvery', 'nadda', 'navegate', 'necessarily', 'negra', 'netwoks', 'newton', 'niftiest', 'njoyed', 'nonconventional', 'nose', 'notofication', 'nude', 'nyagain', 'obstacle', 'ocurrence', 'offload', 'okfor', 'ond', 'onslaughts', 'opera', 'opt', 'oreded', 'osasuna', 'oughta', 'outragious', 'overheating', 'ovimaps', 'pagado', 'pancake', 'pare', 'pase', 'payee', 'ped', 'penta', 'perfecti', 'perimeter', 'perspiration', 'phenominal', 'phonefaster', 'phonestay', 'phrase', 'pieceno', 'pisapapelesproduct', 'plain', 'pleanted', 'plums', 'poetic', 'ponged', 'portraitscons', 'postpaid', 'ppsspp', 'predictible', 'prendes', 'prestados', 'priceit', 'prius', 'problemthe', 'prodruct', 'profiling', 'prommise', 'proposal', 'protestant', 'psychical', 'pulp', 'purfect', 'qc', 'qualitycons', 'querky', 'quitly', 'rains', 'rapepornog', 'razorphone', 'realbisue', 'reasoning', 'recectividad', 'recieve', 'recoment', 'reconsidering', 'redirected', 'reffered', 'regain', 'rehab', 'relearn', 'remedies', 'reomiendo', 'replased', 'requested', 'resetea', 'resoultion', 'respuestas', 'retenido', 'revamped', 'revue', 'rien', 'rjti', 'rolyg', 'routed', 'ruler', 'saddening', 'salute', 'sansa', 'satisfies', 'scammeri', 'scissors', 'screenblazing', 'scrubbing', 'seccond', 'segundo', 'semanas', 'sentitive', 'servers', 'setupuser', 'shanghai', 'shiet', 'shopbest', 'shred', 'siga', 'simdevil', 'sine', 'siugnal', 'skinscreen', 'slept', 'slotkeyboard', 'smartactions', 'smmall', 'snapy', 'sodaand', 'solind', 'somoething', 'sothat', 'spammy', 'specially', 'spell', 'sponsor', 'sqllite', 'stability', 'staples', 'statutes', 'sticked', 'stopoed', 'stratches', 'stronng', 'styler', 'subtracted', 'suffices', 'sunny', 'supped', 'surgeon', 'svp', 'swipes', 'syncronize', 'tailed', 'tanking', 'tcl', 'tecieved', 'telehone', 'tendria', 'testify', 'thamk', 'thb', 'theoperating', 'thif', 'thnks', 'throttle', 'tidos', 'timescape', 'tldr', 'toh', 'toook', 'tottally', 'trabajamos', 'trallas', 'transsacsation', 'tremendo', 'trojans', 'trustworthy', 'turbo', 'twiter', 'udpated', 'umt', 'unclip', 'understanf', 'unfortun', 'unintitutive', 'unlockked', 'unprofessional', 'unsubscribe', 'updatable', 'upstanding', 'usband', 'usework', 'utms', 'vampire', 'vel', 'verbiage', 'verson', 'vibrating', 'vine', 'vivotab', 'volveria', 'waayyyyy', 'wandering', 'warrenty', 'waterprrof', 'weast', 'weighty', 'whach', 'whiles', 'why', 'willsignificantly', 'wisconsin', 'wldnthave', 'woooooow', 'workone', 'wouldint', 'writes', 'xcam', 'xxxx', 'yep', 'youjose', 'ywsteady', 'zmaxnetwork']\n"
     ]
    }
   ],
   "source": [
    "Count_vector = CountVectorizer()\n",
    "X_train_countvec = Count_vector.fit_transform(X_train_cleaned)\n",
    "X_test_countvec = Count_vector.transform(X_test_cleaned)\n",
    "print(\"The number of features : \" , len(Count_vector.get_feature_names()))\n",
    "print(\"The feature name : \" , Count_vector.get_feature_names()[::100])"
   ]
  },
  {
   "cell_type": "code",
   "execution_count": 51,
   "id": "788f4da1",
   "metadata": {},
   "outputs": [
    {
     "data": {
      "text/plain": [
       "MultinomialNB()"
      ]
     },
     "execution_count": 51,
     "metadata": {},
     "output_type": "execute_result"
    }
   ],
   "source": [
    "mnb = MultinomialNB()\n",
    "mnb.fit(X_train_countvec, y_train)"
   ]
  },
  {
   "cell_type": "code",
   "execution_count": 52,
   "id": "eefab619",
   "metadata": {},
   "outputs": [
    {
     "name": "stdout",
     "output_type": "stream",
     "text": [
      "\n",
      "Accuracy on validation set: 0.9266\n",
      "\n",
      "AUC score : 0.8945\n",
      "\n",
      "Classification report : \n",
      "               precision    recall  f1-score   support\n",
      "\n",
      "           0       0.87      0.83      0.85      7710\n",
      "           1       0.94      0.96      0.95     23118\n",
      "\n",
      "    accuracy                           0.93     30828\n",
      "   macro avg       0.91      0.89      0.90     30828\n",
      "weighted avg       0.93      0.93      0.93     30828\n",
      "\n",
      "\n",
      "Confusion Matrix : \n",
      " [[ 6403  1307]\n",
      " [  957 22161]]\n"
     ]
    }
   ],
   "source": [
    "def modelEvaluation(predictions):\n",
    "    print (\"\\nAccuracy on validation set: {:.4f}\".format(accuracy_score(y_test, predictions)))\n",
    "    print(\"\\nAUC score : {:.4f}\".format(roc_auc_score(y_test, predictions)))\n",
    "    print(\"\\nClassification report : \\n\", metrics.classification_report(y_test, predictions))\n",
    "    print(\"\\nConfusion Matrix : \\n\", metrics.confusion_matrix(y_test, predictions))\n",
    "    \n",
    "predictions = mnb.predict(X_test_countvec)\n",
    "modelEvaluation(predictions)"
   ]
  },
  {
   "cell_type": "code",
   "execution_count": 53,
   "id": "0dfc682e",
   "metadata": {},
   "outputs": [
    {
     "name": "stderr",
     "output_type": "stream",
     "text": [
      "C:\\Users\\Lenovo\\.conda\\envs\\laraib\\lib\\site-packages\\sklearn\\utils\\deprecation.py:87: FutureWarning: Function get_feature_names is deprecated; get_feature_names is deprecated in 1.0 and will be removed in 1.2. Please use get_feature_names_out instead.\n",
      "  warnings.warn(msg, category=FutureWarning)\n"
     ]
    },
    {
     "name": "stdout",
     "output_type": "stream",
     "text": [
      "Number of features : 18314 \n",
      "\n",
      "Show some feature names : \n",
      " ['aa', 'ascending', 'break', 'commms', 'debating', 'dumbfounded', 'fair', 'golpes', 'import', 'late', 'microp', 'ooh', 'popped', 'recieve', 'say', 'sone', 'tedious', 'unfortunatelly', 'withstand']\n"
     ]
    },
    {
     "name": "stderr",
     "output_type": "stream",
     "text": [
      "C:\\Users\\Lenovo\\.conda\\envs\\laraib\\lib\\site-packages\\sklearn\\linear_model\\_logistic.py:814: ConvergenceWarning: lbfgs failed to converge (status=1):\n",
      "STOP: TOTAL NO. of ITERATIONS REACHED LIMIT.\n",
      "\n",
      "Increase the number of iterations (max_iter) or scale the data as shown in:\n",
      "    https://scikit-learn.org/stable/modules/preprocessing.html\n",
      "Please also refer to the documentation for alternative solver options:\n",
      "    https://scikit-learn.org/stable/modules/linear_model.html#logistic-regression\n",
      "  n_iter_i = _check_optimize_result(\n"
     ]
    },
    {
     "data": {
      "text/plain": [
       "LogisticRegression()"
      ]
     },
     "execution_count": 53,
     "metadata": {},
     "output_type": "execute_result"
    }
   ],
   "source": [
    "# Fit and transform the training data to a document-term matrix using TfidfVectorizer \n",
    "tfidf = TfidfVectorizer(min_df=5) #minimum document frequency of 5\n",
    "X_train_tfidf = tfidf.fit_transform(X_train_cleaned)\n",
    "print(\"Number of features : %d \\n\" %len(tfidf.get_feature_names())) #1722\n",
    "print(\"Show some feature names : \\n\", tfidf.get_feature_names()[::1000])\n",
    "\n",
    "# Logistic Regression\n",
    "lr = LogisticRegression()\n",
    "lr.fit(X_train_tfidf, y_train)"
   ]
  },
  {
   "cell_type": "code",
   "execution_count": 54,
   "id": "63fe1fdc",
   "metadata": {},
   "outputs": [
    {
     "name": "stdout",
     "output_type": "stream",
     "text": [
      "\n",
      "Top 10 features with smallest coefficients :\n",
      "['not' 'worst' 'useless' 'terrible' 'waste' 'disappointed' 'return' 'poor'\n",
      " 'horrible' 'junk']\n",
      "\n",
      "Top 10 features with largest coefficients : \n",
      "['love' 'great' 'excellent' 'amazing' 'perfect' 'awesome' 'easy'\n",
      " 'perfectly' 'loves' 'best']\n"
     ]
    },
    {
     "name": "stderr",
     "output_type": "stream",
     "text": [
      "C:\\Users\\Lenovo\\.conda\\envs\\laraib\\lib\\site-packages\\sklearn\\utils\\deprecation.py:87: FutureWarning: Function get_feature_names is deprecated; get_feature_names is deprecated in 1.0 and will be removed in 1.2. Please use get_feature_names_out instead.\n",
      "  warnings.warn(msg, category=FutureWarning)\n"
     ]
    }
   ],
   "source": [
    "feature_names = np.array(tfidf.get_feature_names())\n",
    "sorted_coef_index = lr.coef_[0].argsort()\n",
    "print('\\nTop 10 features with smallest coefficients :\\n{}\\n'.format(feature_names[sorted_coef_index[:10]]))\n",
    "print('Top 10 features with largest coefficients : \\n{}'.format(feature_names[sorted_coef_index[:-11:-1]]))"
   ]
  },
  {
   "cell_type": "code",
   "execution_count": 55,
   "id": "47166a79",
   "metadata": {},
   "outputs": [
    {
     "name": "stdout",
     "output_type": "stream",
     "text": [
      "\n",
      "Accuracy on validation set: 0.9511\n",
      "\n",
      "AUC score : 0.9294\n",
      "\n",
      "Classification report : \n",
      "               precision    recall  f1-score   support\n",
      "\n",
      "           0       0.92      0.89      0.90      7710\n",
      "           1       0.96      0.97      0.97     23118\n",
      "\n",
      "    accuracy                           0.95     30828\n",
      "   macro avg       0.94      0.93      0.93     30828\n",
      "weighted avg       0.95      0.95      0.95     30828\n",
      "\n",
      "\n",
      "Confusion Matrix : \n",
      " [[ 6830   880]\n",
      " [  626 22492]]\n"
     ]
    }
   ],
   "source": [
    "predictions = lr.predict(tfidf.transform(X_test_cleaned))\n",
    "modelEvaluation(predictions)"
   ]
  },
  {
   "cell_type": "code",
   "execution_count": null,
   "id": "1aa1686d",
   "metadata": {},
   "outputs": [],
   "source": []
  }
 ],
 "metadata": {
  "kernelspec": {
   "display_name": "Python 3 (ipykernel)",
   "language": "python",
   "name": "python3"
  },
  "language_info": {
   "codemirror_mode": {
    "name": "ipython",
    "version": 3
   },
   "file_extension": ".py",
   "mimetype": "text/x-python",
   "name": "python",
   "nbconvert_exporter": "python",
   "pygments_lexer": "ipython3",
   "version": "3.8.10"
  }
 },
 "nbformat": 4,
 "nbformat_minor": 5
}
